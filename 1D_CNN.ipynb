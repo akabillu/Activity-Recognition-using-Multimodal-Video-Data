{
 "cells": [
  {
   "cell_type": "code",
   "execution_count": 217,
   "id": "e1efd1e6-49bb-4579-997b-10736de62e83",
   "metadata": {
    "tags": []
   },
   "outputs": [],
   "source": [
    "import tensorflow as tf\n",
    "from tensorflow import keras\n",
    "from tensorflow.keras import layers\n",
    "import pandas as pd\n",
    "from sklearn.model_selection import train_test_split\n",
    "from sklearn.preprocessing import LabelEncoder\n",
    "from sklearn.metrics import accuracy_score, precision_score, recall_score, f1_score"
   ]
  },
  {
   "cell_type": "code",
   "execution_count": 248,
   "id": "b828d5da-2ad5-43f5-a6da-a0d79fa9370b",
   "metadata": {
    "tags": []
   },
   "outputs": [],
   "source": [
    "# Set parameters\n",
    "num_classes = 13 # Number of activities\n",
    "num_features =102 # Number of features per sample\n",
    "num_filters = 32 # Number of filters for convolutional layers\n",
    "kernel_size = 2 # Size of kernel for convolutional layers\n",
    "pool_size = 2 # Size of pool for max pooling layers\n",
    "dropout_rate = 0.2 # Dropout rate for regularization\n",
    "learning_rate = 0.001 # Learning rate for optimizer\n",
    "num_epochs = 20 # Number of epochs for training\n",
    "batch_size = 400 # Batch size for training"
   ]
  },
  {
   "cell_type": "code",
   "execution_count": 249,
   "id": "d7220efb-9ea4-4b73-9239-bdb3f8cb090e",
   "metadata": {
    "tags": []
   },
   "outputs": [],
   "source": [
    "# Load and preprocess data\n",
    "data = pd.DataFrame() # Create an empty dataframe\n",
    "for subject in range(40, 58): # Loop over subjects (S40 to S57)\n",
    "    if subject == 43 or subject == 45:\n",
    "        continue\n",
    "    for activity in range(1, 14): # Loop over activities (A01 to A13)\n",
    "        file_name = f\"dataset/videoandimus/S{subject}/S{subject}_A{activity:02d}.csv\" # Create file name\n",
    "        df = pd.read_csv(file_name) # Read file as dataframe\n",
    "        df[\"subject\"] = subject # Add subject column\n",
    "        df[\"activity\"] = activity # Add activity column\n",
    "        data = pd.concat([data, df]) # Append dataframe to data"
   ]
  },
  {
   "cell_type": "code",
   "execution_count": 250,
   "id": "9c974f74-17ea-49c6-accd-70090c739ecd",
   "metadata": {
    "tags": []
   },
   "outputs": [],
   "source": [
    "# Encode activity labels as integers\n",
    "le = LabelEncoder()\n",
    "data[\"activity\"] = le.fit_transform(data[\"activity\"])\n",
    "\n",
    "# Split data into features (X) and labels (y)\n",
    "X = data.drop([\"subject\", \"activity\"], axis=1).values # Drop subject and activity columns and convert to numpy array\n",
    "y = data[\"activity\"].values # Convert activity column to numpy array\n"
   ]
  },
  {
   "cell_type": "code",
   "execution_count": 251,
   "id": "035be1bd-e3cc-45dc-a9b0-0de035b8cf02",
   "metadata": {
    "tags": []
   },
   "outputs": [],
   "source": [
    "# Split data into training and testing sets\n",
    "X_train, X_test, y_train, y_test = train_test_split(X, y, test_size=0.2, random_state=42) # Use 10% of data for testing\n",
    "\n",
    "# Reshape data to fit the input shape of the CNN model (samples, features, channels)\n",
    "X_train = X_train.reshape(-1, num_features, 1) # Add channel dimension of 1\n",
    "X_test = X_test.reshape(-1, num_features, 1) # Add channel dimension of 1\n",
    "\n",
    "# Convert labels to one-hot vectors using Keras utility function\n",
    "y_train = keras.utils.to_categorical(y_train, num_classes) # Convert to one-hot vectors with num_classes columns\n",
    "y_test = keras.utils.to_categorical(y_test, num_classes) # Convert to one-hot vectors with num_classes columns\n"
   ]
  },
  {
   "cell_type": "code",
   "execution_count": 252,
   "id": "d97175da-e77a-4568-9721-b598b0c6bd06",
   "metadata": {
    "tags": []
   },
   "outputs": [],
   "source": [
    "# Define CNN model using Keras sequential API\n",
    "model = keras.Sequential()\n",
    "model.add(layers.Conv1D(num_filters, kernel_size, activation=\"relu\", input_shape=(num_features, 1))) # Convolutional layer with relu activation\n",
    "model.add(layers.MaxPooling1D(pool_size)) # Max pooling layer\n",
    "model.add(layers.Conv1D(num_filters*2, kernel_size, activation=\"relu\")) # Convolutional layer with relu activation\n",
    "model.add(layers.MaxPooling1D(pool_size)) # Max pooling layer\n",
    "model.add(layers.Flatten()) # Flatten layer to convert 3D output to 1D\n",
    "model.add(layers.Dropout(dropout_rate)) # Dropout layer for regularization\n",
    "model.add(layers.Dense(num_classes, activation=\"softmax\")) # Dense layer with softmax activation for output"
   ]
  },
  {
   "cell_type": "code",
   "execution_count": 253,
   "id": "08c4335f-9b60-4286-b0b6-9582c3482e5d",
   "metadata": {
    "tags": []
   },
   "outputs": [
    {
     "name": "stdout",
     "output_type": "stream",
     "text": [
      "Epoch 1/20\n",
      "360/360 [==============================] - 17s 44ms/step - loss: 65.5286 - accuracy: 0.2215\n",
      "Epoch 2/20\n",
      "360/360 [==============================] - 16s 43ms/step - loss: 1.8242 - accuracy: 0.3046\n",
      "Epoch 3/20\n",
      "360/360 [==============================] - 15s 43ms/step - loss: 1.5836 - accuracy: 0.3546\n",
      "Epoch 4/20\n",
      "360/360 [==============================] - 16s 45ms/step - loss: 1.4563 - accuracy: 0.3854\n",
      "Epoch 5/20\n",
      "360/360 [==============================] - 15s 42ms/step - loss: 1.3632 - accuracy: 0.4173\n",
      "Epoch 6/20\n",
      "360/360 [==============================] - 15s 42ms/step - loss: 1.1910 - accuracy: 0.4821\n",
      "Epoch 7/20\n",
      "360/360 [==============================] - 15s 42ms/step - loss: 1.0880 - accuracy: 0.5152\n",
      "Epoch 8/20\n",
      "360/360 [==============================] - 15s 42ms/step - loss: 1.0314 - accuracy: 0.5383\n",
      "Epoch 9/20\n",
      "360/360 [==============================] - 15s 42ms/step - loss: 1.0058 - accuracy: 0.5495\n",
      "Epoch 10/20\n",
      "360/360 [==============================] - 15s 43ms/step - loss: 0.9750 - accuracy: 0.5620\n",
      "Epoch 11/20\n",
      "360/360 [==============================] - 16s 44ms/step - loss: 0.9622 - accuracy: 0.5662\n",
      "Epoch 12/20\n",
      "360/360 [==============================] - 17s 46ms/step - loss: 0.9301 - accuracy: 0.5797\n",
      "Epoch 13/20\n",
      "360/360 [==============================] - 16s 44ms/step - loss: 0.9128 - accuracy: 0.5826\n",
      "Epoch 14/20\n",
      "360/360 [==============================] - 17s 46ms/step - loss: 0.9073 - accuracy: 0.5817\n",
      "Epoch 15/20\n",
      "360/360 [==============================] - 17s 48ms/step - loss: 0.9046 - accuracy: 0.5853\n",
      "Epoch 16/20\n",
      "360/360 [==============================] - 16s 45ms/step - loss: 0.8988 - accuracy: 0.5872\n",
      "Epoch 17/20\n",
      "360/360 [==============================] - 18s 49ms/step - loss: 0.8897 - accuracy: 0.5916\n",
      "Epoch 18/20\n",
      "360/360 [==============================] - 16s 45ms/step - loss: 0.8891 - accuracy: 0.5931\n",
      "Epoch 19/20\n",
      "360/360 [==============================] - 18s 50ms/step - loss: 0.8737 - accuracy: 0.6002\n",
      "Epoch 20/20\n",
      "360/360 [==============================] - 16s 45ms/step - loss: 0.8770 - accuracy: 0.6004\n",
      "1123/1123 [==============================] - 3s 3ms/step\n"
     ]
    }
   ],
   "source": [
    "# Compile model with loss function, optimizer and metrics\n",
    "model.compile(loss=\"categorical_crossentropy\", optimizer=keras.optimizers.Adam(learning_rate), metrics=[\"accuracy\"])\n",
    "\n",
    "# Fit model on training data\n",
    "model.fit(X_train, y_train, epochs=num_epochs, batch_size=batch_size, verbose=1)\n",
    "\n",
    "# Evaluate model on testing data\n",
    "y_pred = model.predict(X_test) # Predict labels for testing data\n",
    "y_pred = y_pred.argmax(axis=1) # Convert one-hot vectors to integers\n",
    "y_test = y_test.argmax(axis=1) # Convert one-hot vectors to integers"
   ]
  },
  {
   "cell_type": "code",
   "execution_count": 254,
   "id": "4cd79fe3-e70a-4596-8343-c336d26d4640",
   "metadata": {
    "tags": []
   },
   "outputs": [
    {
     "name": "stdout",
     "output_type": "stream",
     "text": [
      "Accuracy: 0.6613662313069147\n",
      "Precision: 0.7303945927495222\n",
      "Recall: 0.69753207080066\n",
      "F1-score: 0.6979203572863144\n"
     ]
    }
   ],
   "source": [
    "# Print performance metrics\n",
    "print(\"Accuracy:\", accuracy_score(y_test, y_pred))\n",
    "print(\"Precision:\", precision_score(y_test, y_pred, average=\"macro\"))\n",
    "print(\"Recall:\", recall_score(y_test, y_pred, average=\"macro\"))\n",
    "print(\"F1-score:\", f1_score(y_test, y_pred, average=\"macro\"))"
   ]
  },
  {
   "cell_type": "code",
   "execution_count": null,
   "id": "fdf29a02-c98f-4df2-832f-1ff6a923093e",
   "metadata": {},
   "outputs": [],
   "source": []
  }
 ],
 "metadata": {
  "kernelspec": {
   "display_name": "Python 3 (ipykernel)",
   "language": "python",
   "name": "python3"
  },
  "language_info": {
   "codemirror_mode": {
    "name": "ipython",
    "version": 3
   },
   "file_extension": ".py",
   "mimetype": "text/x-python",
   "name": "python",
   "nbconvert_exporter": "python",
   "pygments_lexer": "ipython3",
   "version": "3.11.4"
  }
 },
 "nbformat": 4,
 "nbformat_minor": 5
}
